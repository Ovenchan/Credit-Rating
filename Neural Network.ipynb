{
 "cells": [
  {
   "cell_type": "markdown",
   "source": [
    "# IMPORTING"
   ],
   "metadata": {
    "collapsed": false
   }
  },
  {
   "cell_type": "code",
   "execution_count": 1,
   "outputs": [],
   "source": [
    "import pandas as pd\n",
    "import numpy as np\n",
    "from numpy import unique\n",
    "import os\n",
    "import tensorflow as tf\n",
    "from sklearn.utils import shuffle\n",
    "from sklearn.model_selection import train_test_split\n",
    "from keras import Sequential\n",
    "from keras.layers import Dense\n",
    "from sklearn.preprocessing import MinMaxScaler\n",
    "import random\n",
    "\n",
    "os.environ[\"KMP_DUPLICATE_LIB_OK\"] = \"TRUE\"\n",
    "import keras.backend as K"
   ],
   "metadata": {
    "collapsed": false,
    "ExecuteTime": {
     "start_time": "2023-06-10T20:41:45.133443Z",
     "end_time": "2023-06-10T20:41:49.479757Z"
    }
   }
  },
  {
   "cell_type": "markdown",
   "source": [
    "# Redefine Accuracy Function"
   ],
   "metadata": {
    "collapsed": false
   }
  },
  {
   "cell_type": "code",
   "execution_count": 2,
   "outputs": [],
   "source": [
    "def custom_accuracy(y_true, y_pred):\n",
    "    diff = K.abs(K.max(y_true,axis=-1)-\n",
    "                 K.cast(K.argmax(y_pred, axis=-1), K.floatx()))\n",
    "    correct = K.less_equal(diff,1)\n",
    "    return K.mean(correct)"
   ],
   "metadata": {
    "collapsed": false,
    "ExecuteTime": {
     "start_time": "2023-06-10T20:41:49.479757Z",
     "end_time": "2023-06-10T20:41:49.495383Z"
    }
   }
  },
  {
   "cell_type": "markdown",
   "source": [
    "# Get train data and test data"
   ],
   "metadata": {
    "collapsed": false
   }
  },
  {
   "cell_type": "code",
   "execution_count": 3,
   "outputs": [],
   "source": [
    "#get the train data\n",
    "filename = 'train_set.csv'\n",
    "train = pd.read_csv(filename,encoding='gb18030')\n",
    "\n",
    "X_train = train.columns[2:14]\n",
    "X_train = train[X_train].fillna(0).astype(float).to_numpy()\n",
    "y_train = train.columns[0]\n",
    "y_train = train[y_train].fillna(0).astype(float).to_numpy()\n",
    "#get the test data\n",
    "filename = 'test_set.csv'\n",
    "test = pd.read_csv(filename,encoding='gb18030')\n",
    "X_test = test.columns[2:14]\n",
    "X_test = test[X_test].fillna(0).astype(float).to_numpy()\n",
    "y_test = test.columns[0]\n",
    "y_test = test[y_test].fillna(0).astype(float).to_numpy()"
   ],
   "metadata": {
    "collapsed": false,
    "ExecuteTime": {
     "start_time": "2023-06-10T20:41:49.495383Z",
     "end_time": "2023-06-10T20:41:49.557883Z"
    }
   }
  },
  {
   "cell_type": "code",
   "execution_count": 4,
   "outputs": [],
   "source": [
    "# fix the random seed\n",
    "random.seed(2)\n",
    "np.random.seed(2)\n",
    "tf.random.set_seed(seed=2)"
   ],
   "metadata": {
    "collapsed": false,
    "ExecuteTime": {
     "start_time": "2023-06-10T20:41:49.542254Z",
     "end_time": "2023-06-10T20:41:49.557883Z"
    }
   }
  },
  {
   "cell_type": "markdown",
   "source": [
    "# Model formulation"
   ],
   "metadata": {
    "collapsed": false
   }
  },
  {
   "cell_type": "code",
   "execution_count": 5,
   "outputs": [
    {
     "name": "stdout",
     "output_type": "stream",
     "text": [
      "Epoch 1/100\n",
      "36/36 - 3s - loss: 2.1494 - custom_accuracy: 0.5460 - val_loss: 1.9596 - val_custom_accuracy: 0.6228 - 3s/epoch - 71ms/step\n",
      "Epoch 2/100\n",
      "36/36 - 1s - loss: 1.9281 - custom_accuracy: 0.6277 - val_loss: 1.9500 - val_custom_accuracy: 0.6228 - 669ms/epoch - 19ms/step\n",
      "Epoch 3/100\n",
      "36/36 - 1s - loss: 1.9176 - custom_accuracy: 0.6283 - val_loss: 1.9557 - val_custom_accuracy: 0.6228 - 681ms/epoch - 19ms/step\n",
      "Epoch 4/100\n",
      "36/36 - 1s - loss: 1.9070 - custom_accuracy: 0.6271 - val_loss: 1.9284 - val_custom_accuracy: 0.6228 - 706ms/epoch - 20ms/step\n",
      "Epoch 5/100\n",
      "36/36 - 1s - loss: 1.8868 - custom_accuracy: 0.5942 - val_loss: 1.9115 - val_custom_accuracy: 0.6228 - 649ms/epoch - 18ms/step\n",
      "Epoch 6/100\n",
      "36/36 - 1s - loss: 1.8539 - custom_accuracy: 0.6427 - val_loss: 1.8874 - val_custom_accuracy: 0.5901 - 628ms/epoch - 17ms/step\n",
      "Epoch 7/100\n",
      "36/36 - 1s - loss: 1.8539 - custom_accuracy: 0.6170 - val_loss: 1.8737 - val_custom_accuracy: 0.6404 - 698ms/epoch - 19ms/step\n",
      "Epoch 8/100\n",
      "36/36 - 1s - loss: 1.8082 - custom_accuracy: 0.6664 - val_loss: 1.8952 - val_custom_accuracy: 0.5704 - 907ms/epoch - 25ms/step\n",
      "Epoch 9/100\n",
      "36/36 - 1s - loss: 1.7850 - custom_accuracy: 0.6780 - val_loss: 1.8435 - val_custom_accuracy: 0.6682 - 605ms/epoch - 17ms/step\n",
      "Epoch 10/100\n",
      "36/36 - 1s - loss: 1.7689 - custom_accuracy: 0.6961 - val_loss: 1.8485 - val_custom_accuracy: 0.6627 - 650ms/epoch - 18ms/step\n",
      "Epoch 11/100\n",
      "36/36 - 1s - loss: 1.7624 - custom_accuracy: 0.6996 - val_loss: 1.8820 - val_custom_accuracy: 0.5957 - 654ms/epoch - 18ms/step\n",
      "Epoch 12/100\n",
      "36/36 - 1s - loss: 1.7555 - custom_accuracy: 0.6852 - val_loss: 1.8537 - val_custom_accuracy: 0.6685 - 804ms/epoch - 22ms/step\n",
      "Epoch 13/100\n",
      "36/36 - 1s - loss: 1.7591 - custom_accuracy: 0.6899 - val_loss: 1.9003 - val_custom_accuracy: 0.5648 - 756ms/epoch - 21ms/step\n",
      "Epoch 14/100\n",
      "36/36 - 2s - loss: 1.7388 - custom_accuracy: 0.7023 - val_loss: 1.8262 - val_custom_accuracy: 0.6741 - 2s/epoch - 55ms/step\n",
      "Epoch 15/100\n",
      "36/36 - 1s - loss: 1.7172 - custom_accuracy: 0.7134 - val_loss: 1.8498 - val_custom_accuracy: 0.6654 - 978ms/epoch - 27ms/step\n",
      "Epoch 16/100\n",
      "36/36 - 1s - loss: 1.7164 - custom_accuracy: 0.7151 - val_loss: 1.8275 - val_custom_accuracy: 0.6799 - 909ms/epoch - 25ms/step\n",
      "Epoch 17/100\n",
      "36/36 - 1s - loss: 1.7086 - custom_accuracy: 0.7257 - val_loss: 1.8282 - val_custom_accuracy: 0.6657 - 925ms/epoch - 26ms/step\n",
      "Epoch 18/100\n",
      "36/36 - 1s - loss: 1.7110 - custom_accuracy: 0.7167 - val_loss: 1.8470 - val_custom_accuracy: 0.6627 - 667ms/epoch - 19ms/step\n",
      "Epoch 19/100\n",
      "36/36 - 1s - loss: 1.7020 - custom_accuracy: 0.7390 - val_loss: 1.8181 - val_custom_accuracy: 0.7250 - 1s/epoch - 32ms/step\n",
      "Epoch 20/100\n",
      "36/36 - 1s - loss: 1.6947 - custom_accuracy: 0.7221 - val_loss: 1.8332 - val_custom_accuracy: 0.6769 - 1s/epoch - 29ms/step\n",
      "Epoch 21/100\n",
      "36/36 - 1s - loss: 1.6988 - custom_accuracy: 0.7131 - val_loss: 1.8128 - val_custom_accuracy: 0.7250 - 611ms/epoch - 17ms/step\n",
      "Epoch 22/100\n",
      "36/36 - 1s - loss: 1.6847 - custom_accuracy: 0.7383 - val_loss: 1.8105 - val_custom_accuracy: 0.6802 - 801ms/epoch - 22ms/step\n",
      "Epoch 23/100\n",
      "36/36 - 1s - loss: 1.6800 - custom_accuracy: 0.7408 - val_loss: 1.8354 - val_custom_accuracy: 0.6713 - 564ms/epoch - 16ms/step\n",
      "Epoch 24/100\n",
      "36/36 - 1s - loss: 1.6864 - custom_accuracy: 0.7326 - val_loss: 1.8340 - val_custom_accuracy: 0.6657 - 721ms/epoch - 20ms/step\n",
      "Epoch 25/100\n",
      "36/36 - 1s - loss: 1.6652 - custom_accuracy: 0.7583 - val_loss: 1.8283 - val_custom_accuracy: 0.7170 - 611ms/epoch - 17ms/step\n",
      "Epoch 26/100\n",
      "36/36 - 1s - loss: 1.6652 - custom_accuracy: 0.7605 - val_loss: 1.8424 - val_custom_accuracy: 0.7275 - 568ms/epoch - 16ms/step\n",
      "Epoch 27/100\n",
      "36/36 - 1s - loss: 1.6744 - custom_accuracy: 0.7448 - val_loss: 1.8123 - val_custom_accuracy: 0.6744 - 536ms/epoch - 15ms/step\n",
      "Epoch 28/100\n",
      "36/36 - 1s - loss: 1.6658 - custom_accuracy: 0.7573 - val_loss: 1.8552 - val_custom_accuracy: 0.7198 - 674ms/epoch - 19ms/step\n",
      "Epoch 29/100\n",
      "36/36 - 1s - loss: 1.6556 - custom_accuracy: 0.7516 - val_loss: 1.8553 - val_custom_accuracy: 0.6713 - 537ms/epoch - 15ms/step\n",
      "Epoch 30/100\n",
      "36/36 - 1s - loss: 1.6409 - custom_accuracy: 0.7381 - val_loss: 1.8272 - val_custom_accuracy: 0.7083 - 596ms/epoch - 17ms/step\n",
      "Epoch 31/100\n",
      "36/36 - 1s - loss: 1.6613 - custom_accuracy: 0.7591 - val_loss: 1.8119 - val_custom_accuracy: 0.7225 - 647ms/epoch - 18ms/step\n",
      "Epoch 32/100\n",
      "36/36 - 1s - loss: 1.6260 - custom_accuracy: 0.7504 - val_loss: 1.8129 - val_custom_accuracy: 0.7222 - 641ms/epoch - 18ms/step\n",
      "Epoch 33/100\n",
      "36/36 - 1s - loss: 1.6280 - custom_accuracy: 0.7724 - val_loss: 1.8771 - val_custom_accuracy: 0.6738 - 600ms/epoch - 17ms/step\n",
      "Epoch 34/100\n",
      "36/36 - 1s - loss: 1.6284 - custom_accuracy: 0.7687 - val_loss: 1.8385 - val_custom_accuracy: 0.6806 - 597ms/epoch - 17ms/step\n",
      "Epoch 35/100\n",
      "36/36 - 1s - loss: 1.6293 - custom_accuracy: 0.7518 - val_loss: 1.8229 - val_custom_accuracy: 0.6713 - 584ms/epoch - 16ms/step\n",
      "Epoch 36/100\n",
      "36/36 - 1s - loss: 1.6252 - custom_accuracy: 0.7452 - val_loss: 1.8110 - val_custom_accuracy: 0.6781 - 584ms/epoch - 16ms/step\n",
      "Epoch 37/100\n",
      "36/36 - 1s - loss: 1.6171 - custom_accuracy: 0.7488 - val_loss: 1.8592 - val_custom_accuracy: 0.6830 - 736ms/epoch - 20ms/step\n",
      "Epoch 38/100\n",
      "36/36 - 1s - loss: 1.6297 - custom_accuracy: 0.7392 - val_loss: 1.8233 - val_custom_accuracy: 0.7105 - 599ms/epoch - 17ms/step\n",
      "Epoch 39/100\n",
      "36/36 - 1s - loss: 1.6164 - custom_accuracy: 0.7546 - val_loss: 1.8155 - val_custom_accuracy: 0.7250 - 568ms/epoch - 16ms/step\n",
      "Epoch 40/100\n",
      "36/36 - 1s - loss: 1.6042 - custom_accuracy: 0.7710 - val_loss: 1.8121 - val_custom_accuracy: 0.7198 - 580ms/epoch - 16ms/step\n",
      "Epoch 41/100\n",
      "36/36 - 1s - loss: 1.5985 - custom_accuracy: 0.7735 - val_loss: 1.8252 - val_custom_accuracy: 0.7000 - 750ms/epoch - 21ms/step\n",
      "Epoch 42/100\n",
      "36/36 - 1s - loss: 1.5967 - custom_accuracy: 0.7683 - val_loss: 1.8467 - val_custom_accuracy: 0.7336 - 550ms/epoch - 15ms/step\n",
      "Epoch 43/100\n",
      "36/36 - 1s - loss: 1.5902 - custom_accuracy: 0.7941 - val_loss: 1.8051 - val_custom_accuracy: 0.7401 - 616ms/epoch - 17ms/step\n",
      "Epoch 44/100\n",
      "36/36 - 1s - loss: 1.5980 - custom_accuracy: 0.7758 - val_loss: 1.8564 - val_custom_accuracy: 0.6880 - 767ms/epoch - 21ms/step\n",
      "Epoch 45/100\n",
      "36/36 - 1s - loss: 1.5818 - custom_accuracy: 0.7569 - val_loss: 1.8583 - val_custom_accuracy: 0.7309 - 869ms/epoch - 24ms/step\n",
      "Epoch 46/100\n",
      "36/36 - 1s - loss: 1.5914 - custom_accuracy: 0.7748 - val_loss: 1.8281 - val_custom_accuracy: 0.6833 - 714ms/epoch - 20ms/step\n",
      "Epoch 47/100\n",
      "36/36 - 2s - loss: 1.5682 - custom_accuracy: 0.7722 - val_loss: 1.8434 - val_custom_accuracy: 0.7028 - 2s/epoch - 60ms/step\n",
      "Epoch 48/100\n",
      "36/36 - 1s - loss: 1.5820 - custom_accuracy: 0.7823 - val_loss: 1.8248 - val_custom_accuracy: 0.6941 - 664ms/epoch - 18ms/step\n",
      "Epoch 49/100\n",
      "36/36 - 1s - loss: 1.5806 - custom_accuracy: 0.7744 - val_loss: 1.8685 - val_custom_accuracy: 0.7111 - 544ms/epoch - 15ms/step\n",
      "Epoch 50/100\n",
      "36/36 - 1s - loss: 1.5674 - custom_accuracy: 0.7640 - val_loss: 1.8404 - val_custom_accuracy: 0.7003 - 789ms/epoch - 22ms/step\n",
      "Epoch 51/100\n",
      "36/36 - 1s - loss: 1.5553 - custom_accuracy: 0.7865 - val_loss: 1.8296 - val_custom_accuracy: 0.6914 - 728ms/epoch - 20ms/step\n",
      "Epoch 52/100\n",
      "36/36 - 1s - loss: 1.5400 - custom_accuracy: 0.7749 - val_loss: 1.8576 - val_custom_accuracy: 0.7000 - 834ms/epoch - 23ms/step\n",
      "Epoch 53/100\n",
      "36/36 - 1s - loss: 1.5671 - custom_accuracy: 0.7977 - val_loss: 1.8127 - val_custom_accuracy: 0.7059 - 679ms/epoch - 19ms/step\n",
      "Epoch 54/100\n",
      "36/36 - 1s - loss: 1.5405 - custom_accuracy: 0.7813 - val_loss: 1.8532 - val_custom_accuracy: 0.7173 - 921ms/epoch - 26ms/step\n",
      "Epoch 55/100\n",
      "36/36 - 1s - loss: 1.5376 - custom_accuracy: 0.7937 - val_loss: 1.8480 - val_custom_accuracy: 0.7056 - 815ms/epoch - 23ms/step\n",
      "Epoch 56/100\n",
      "36/36 - 1s - loss: 1.5217 - custom_accuracy: 0.7985 - val_loss: 1.8781 - val_custom_accuracy: 0.7083 - 747ms/epoch - 21ms/step\n",
      "Epoch 57/100\n",
      "36/36 - 1s - loss: 1.5320 - custom_accuracy: 0.7984 - val_loss: 1.8714 - val_custom_accuracy: 0.6858 - 818ms/epoch - 23ms/step\n",
      "Epoch 58/100\n",
      "36/36 - 1s - loss: 1.5422 - custom_accuracy: 0.7805 - val_loss: 1.9173 - val_custom_accuracy: 0.7139 - 770ms/epoch - 21ms/step\n",
      "Epoch 59/100\n",
      "36/36 - 1s - loss: 1.5264 - custom_accuracy: 0.7930 - val_loss: 1.9228 - val_custom_accuracy: 0.7056 - 675ms/epoch - 19ms/step\n",
      "Epoch 60/100\n",
      "36/36 - 1s - loss: 1.5191 - custom_accuracy: 0.8006 - val_loss: 1.8628 - val_custom_accuracy: 0.7028 - 719ms/epoch - 20ms/step\n",
      "Epoch 61/100\n",
      "36/36 - 1s - loss: 1.5003 - custom_accuracy: 0.8041 - val_loss: 1.9190 - val_custom_accuracy: 0.7083 - 689ms/epoch - 19ms/step\n",
      "Epoch 62/100\n",
      "36/36 - 1s - loss: 1.5160 - custom_accuracy: 0.7949 - val_loss: 1.8704 - val_custom_accuracy: 0.7136 - 811ms/epoch - 23ms/step\n",
      "Epoch 63/100\n",
      "36/36 - 1s - loss: 1.5167 - custom_accuracy: 0.8069 - val_loss: 1.8681 - val_custom_accuracy: 0.6892 - 571ms/epoch - 16ms/step\n",
      "Epoch 64/100\n",
      "36/36 - 1s - loss: 1.4847 - custom_accuracy: 0.8074 - val_loss: 1.8741 - val_custom_accuracy: 0.6948 - 674ms/epoch - 19ms/step\n",
      "Epoch 65/100\n",
      "36/36 - 1s - loss: 1.5019 - custom_accuracy: 0.8077 - val_loss: 1.8596 - val_custom_accuracy: 0.7111 - 932ms/epoch - 26ms/step\n",
      "Epoch 66/100\n",
      "36/36 - 1s - loss: 1.4921 - custom_accuracy: 0.8018 - val_loss: 1.9300 - val_custom_accuracy: 0.7281 - 694ms/epoch - 19ms/step\n",
      "Epoch 67/100\n",
      "36/36 - 1s - loss: 1.4753 - custom_accuracy: 0.8079 - val_loss: 2.0035 - val_custom_accuracy: 0.7142 - 606ms/epoch - 17ms/step\n",
      "Epoch 68/100\n",
      "36/36 - 1s - loss: 1.4789 - custom_accuracy: 0.8092 - val_loss: 2.0705 - val_custom_accuracy: 0.6889 - 638ms/epoch - 18ms/step\n",
      "Epoch 69/100\n",
      "36/36 - 1s - loss: 1.4710 - custom_accuracy: 0.8215 - val_loss: 1.9415 - val_custom_accuracy: 0.6920 - 759ms/epoch - 21ms/step\n",
      "Epoch 70/100\n",
      "36/36 - 1s - loss: 1.4713 - custom_accuracy: 0.8074 - val_loss: 1.9952 - val_custom_accuracy: 0.6895 - 661ms/epoch - 18ms/step\n",
      "Epoch 71/100\n",
      "36/36 - 1s - loss: 1.4641 - custom_accuracy: 0.8129 - val_loss: 1.9682 - val_custom_accuracy: 0.7142 - 614ms/epoch - 17ms/step\n",
      "Epoch 72/100\n",
      "36/36 - 1s - loss: 1.4774 - custom_accuracy: 0.8052 - val_loss: 2.0133 - val_custom_accuracy: 0.6858 - 602ms/epoch - 17ms/step\n",
      "Epoch 73/100\n",
      "36/36 - 1s - loss: 1.4474 - custom_accuracy: 0.8153 - val_loss: 1.9072 - val_custom_accuracy: 0.6978 - 706ms/epoch - 20ms/step\n",
      "Epoch 74/100\n",
      "36/36 - 1s - loss: 1.4321 - custom_accuracy: 0.8284 - val_loss: 2.0042 - val_custom_accuracy: 0.7056 - 827ms/epoch - 23ms/step\n",
      "Epoch 75/100\n",
      "36/36 - 1s - loss: 1.4510 - custom_accuracy: 0.8173 - val_loss: 1.9266 - val_custom_accuracy: 0.7028 - 710ms/epoch - 20ms/step\n",
      "Epoch 76/100\n",
      "36/36 - 1s - loss: 1.4129 - custom_accuracy: 0.8225 - val_loss: 1.9665 - val_custom_accuracy: 0.7114 - 804ms/epoch - 22ms/step\n",
      "Epoch 77/100\n",
      "36/36 - 1s - loss: 1.4182 - custom_accuracy: 0.8338 - val_loss: 2.0145 - val_custom_accuracy: 0.6883 - 714ms/epoch - 20ms/step\n",
      "Epoch 78/100\n",
      "36/36 - 1s - loss: 1.4284 - custom_accuracy: 0.8255 - val_loss: 1.9700 - val_custom_accuracy: 0.7003 - 615ms/epoch - 17ms/step\n",
      "Epoch 79/100\n",
      "36/36 - 1s - loss: 1.4010 - custom_accuracy: 0.8313 - val_loss: 1.9359 - val_custom_accuracy: 0.7142 - 599ms/epoch - 17ms/step\n",
      "Epoch 80/100\n",
      "36/36 - 1s - loss: 1.4244 - custom_accuracy: 0.8287 - val_loss: 2.0485 - val_custom_accuracy: 0.6948 - 866ms/epoch - 24ms/step\n",
      "Epoch 81/100\n",
      "36/36 - 1s - loss: 1.3705 - custom_accuracy: 0.8367 - val_loss: 2.0313 - val_custom_accuracy: 0.7284 - 767ms/epoch - 21ms/step\n",
      "Epoch 82/100\n",
      "36/36 - 1s - loss: 1.3641 - custom_accuracy: 0.8327 - val_loss: 2.0846 - val_custom_accuracy: 0.6951 - 665ms/epoch - 18ms/step\n",
      "Epoch 83/100\n",
      "36/36 - 1s - loss: 1.3448 - custom_accuracy: 0.8427 - val_loss: 2.1111 - val_custom_accuracy: 0.7173 - 958ms/epoch - 27ms/step\n",
      "Epoch 84/100\n",
      "36/36 - 1s - loss: 1.3260 - custom_accuracy: 0.8484 - val_loss: 2.0761 - val_custom_accuracy: 0.7059 - 975ms/epoch - 27ms/step\n",
      "Epoch 85/100\n",
      "36/36 - 1s - loss: 1.3531 - custom_accuracy: 0.8480 - val_loss: 2.1569 - val_custom_accuracy: 0.7170 - 589ms/epoch - 16ms/step\n",
      "Epoch 86/100\n",
      "36/36 - 1s - loss: 1.3939 - custom_accuracy: 0.8344 - val_loss: 2.1893 - val_custom_accuracy: 0.6978 - 643ms/epoch - 18ms/step\n",
      "Epoch 87/100\n",
      "36/36 - 1s - loss: 1.3605 - custom_accuracy: 0.8383 - val_loss: 2.1701 - val_custom_accuracy: 0.6892 - 594ms/epoch - 16ms/step\n",
      "Epoch 88/100\n",
      "36/36 - 1s - loss: 1.3020 - custom_accuracy: 0.8462 - val_loss: 2.1517 - val_custom_accuracy: 0.7145 - 799ms/epoch - 22ms/step\n",
      "Epoch 89/100\n",
      "36/36 - 1s - loss: 1.3362 - custom_accuracy: 0.8565 - val_loss: 2.1054 - val_custom_accuracy: 0.7022 - 629ms/epoch - 17ms/step\n",
      "Epoch 90/100\n",
      "36/36 - 1s - loss: 1.3442 - custom_accuracy: 0.8388 - val_loss: 2.1576 - val_custom_accuracy: 0.7142 - 642ms/epoch - 18ms/step\n",
      "Epoch 91/100\n",
      "36/36 - 1s - loss: 1.2635 - custom_accuracy: 0.8483 - val_loss: 2.1817 - val_custom_accuracy: 0.6833 - 564ms/epoch - 16ms/step\n",
      "Epoch 92/100\n",
      "36/36 - 1s - loss: 1.2792 - custom_accuracy: 0.8604 - val_loss: 2.1999 - val_custom_accuracy: 0.6944 - 662ms/epoch - 18ms/step\n",
      "Epoch 93/100\n",
      "36/36 - 1s - loss: 1.2633 - custom_accuracy: 0.8592 - val_loss: 2.2138 - val_custom_accuracy: 0.6806 - 579ms/epoch - 16ms/step\n",
      "Epoch 94/100\n",
      "36/36 - 1s - loss: 1.2703 - custom_accuracy: 0.8551 - val_loss: 2.3535 - val_custom_accuracy: 0.6781 - 599ms/epoch - 17ms/step\n",
      "Epoch 95/100\n",
      "36/36 - 1s - loss: 1.2400 - custom_accuracy: 0.8549 - val_loss: 2.1846 - val_custom_accuracy: 0.6951 - 563ms/epoch - 16ms/step\n",
      "Epoch 96/100\n",
      "36/36 - 1s - loss: 1.2552 - custom_accuracy: 0.8502 - val_loss: 2.2063 - val_custom_accuracy: 0.6892 - 721ms/epoch - 20ms/step\n",
      "Epoch 97/100\n",
      "36/36 - 1s - loss: 1.2646 - custom_accuracy: 0.8616 - val_loss: 2.1636 - val_custom_accuracy: 0.7062 - 564ms/epoch - 16ms/step\n",
      "Epoch 98/100\n",
      "36/36 - 1s - loss: 1.2735 - custom_accuracy: 0.8640 - val_loss: 2.1868 - val_custom_accuracy: 0.7194 - 597ms/epoch - 17ms/step\n",
      "Epoch 99/100\n",
      "36/36 - 1s - loss: 1.2606 - custom_accuracy: 0.8620 - val_loss: 2.4139 - val_custom_accuracy: 0.7059 - 563ms/epoch - 16ms/step\n",
      "Epoch 100/100\n",
      "36/36 - 1s - loss: 1.2344 - custom_accuracy: 0.8749 - val_loss: 2.2418 - val_custom_accuracy: 0.7031 - 611ms/epoch - 17ms/step\n"
     ]
    },
    {
     "data": {
      "text/plain": "<keras.callbacks.History at 0x1e3b474f970>"
     },
     "execution_count": 5,
     "metadata": {},
     "output_type": "execute_result"
    }
   ],
   "source": [
    "# determine the shape of the input\n",
    "in_shape = X_train.shape[1:]\n",
    "\n",
    "# determine the number of classes\n",
    "n_classes = len(unique(y_train)) + 1\n",
    "model = Sequential()\n",
    "\n",
    "# Hidden layer\n",
    "model.add(Dense(units=2000, activation='sigmoid'))\n",
    "model.add(Dense(units=1000, activation='tanh'))\n",
    "model.add(Dense(units=600, activation='tanh'))\n",
    "model.add(Dense(units=200, activation='sigmoid'))\n",
    "model.add(Dense(units=100, activation='sigmoid'))\n",
    "\n",
    "# Use the softmax activation function for classification\n",
    "model.add(Dense(units=n_classes, activation='softmax'))\n",
    "\n",
    "# define loss function and optimizer\n",
    "model.compile(optimizer='adam', loss='sparse_categorical_crossentropy',\n",
    "              metrics=[custom_accuracy])\n",
    "\n",
    "# fit the model\n",
    "model.fit(X_train, y_train, epochs=100, batch_size=40, verbose=2,\n",
    "          validation_data=(X_test, y_test))"
   ],
   "metadata": {
    "collapsed": false,
    "ExecuteTime": {
     "start_time": "2023-06-10T20:41:49.557883Z",
     "end_time": "2023-06-10T20:43:04.440968Z"
    }
   }
  },
  {
   "cell_type": "markdown",
   "source": [
    "# Evaluation"
   ],
   "metadata": {
    "collapsed": false
   }
  },
  {
   "cell_type": "code",
   "execution_count": 6,
   "outputs": [
    {
     "name": "stdout",
     "output_type": "stream",
     "text": [
      "Model: \"sequential\"\n",
      "_________________________________________________________________\n",
      " Layer (type)                Output Shape              Param #   \n",
      "=================================================================\n",
      " dense (Dense)               (None, 2000)              26000     \n",
      "                                                                 \n",
      " dense_1 (Dense)             (None, 1000)              2001000   \n",
      "                                                                 \n",
      " dense_2 (Dense)             (None, 600)               600600    \n",
      "                                                                 \n",
      " dense_3 (Dense)             (None, 200)               120200    \n",
      "                                                                 \n",
      " dense_4 (Dense)             (None, 100)               20100     \n",
      "                                                                 \n",
      " dense_5 (Dense)             (None, 20)                2020      \n",
      "                                                                 \n",
      "=================================================================\n",
      "Total params: 2,769,920\n",
      "Trainable params: 2,769,920\n",
      "Non-trainable params: 0\n",
      "_________________________________________________________________\n",
      "=================================================\n",
      "Test Accuracy on the training set: 0.877\n",
      "Test Accuracy on the test set: 0.724\n"
     ]
    }
   ],
   "source": [
    "# evaluate the model on training set and test set\n",
    "\n",
    "loss, acc = model.evaluate(X_train, y_train, verbose=0)\n",
    "model.summary()\n",
    "print('=================================================')\n",
    "print('Test Accuracy on the training set: %.3f' % acc)\n",
    "loss, acc = model.evaluate(X_test, y_test, verbose=0)\n",
    "print('Test Accuracy on the test set: %.3f' % acc)"
   ],
   "metadata": {
    "collapsed": false,
    "ExecuteTime": {
     "start_time": "2023-06-10T20:43:04.425342Z",
     "end_time": "2023-06-10T20:43:05.215624Z"
    }
   }
  }
 ],
 "metadata": {
  "kernelspec": {
   "display_name": "Python 3",
   "language": "python",
   "name": "python3"
  },
  "language_info": {
   "codemirror_mode": {
    "name": "ipython",
    "version": 2
   },
   "file_extension": ".py",
   "mimetype": "text/x-python",
   "name": "python",
   "nbconvert_exporter": "python",
   "pygments_lexer": "ipython2",
   "version": "2.7.6"
  }
 },
 "nbformat": 4,
 "nbformat_minor": 0
}
